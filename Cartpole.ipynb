{
 "cells": [
  {
   "cell_type": "code",
   "execution_count": 2,
   "id": "ddd06d0d-70c6-4ccc-8ba5-4bda838694d5",
   "metadata": {},
   "outputs": [],
   "source": [
    "# Cartpole setup\n",
    "import gymnasium as gym\n",
    "import numpy as np\n",
    "from bettermdptools.envs.cartpole_wrapper import CartpoleWrapper\n",
    "from bettermdptools.utils.grid_search import GridSearch\n",
    "from bettermdptools.utils.test_env import TestEnv\n",
    "from bettermdptools.algorithms.planner import Planner\n",
    "from bettermdptools.algorithms.rl import RL\n",
    "from bettermdptools.utils.plots import Plots\n",
    "from bettermdptools.utils.decorators import add_to\n",
    "import seaborn as sns\n",
    "import matplotlib.pyplot as plt\n",
    "import time\n",
    "\n",
    "env = gym.make(\"CartPole-v1\", render_mode=None)\n",
    "\n",
    "#https://jlm429.github.io/bettermdptools/bettermdptools.html\n",
    "#https://github.com/jlm429/bettermdptools/tree/master/notebooks\n"
   ]
  },
  {
   "cell_type": "code",
   "execution_count": 3,
   "id": "cc181b7e-5629-4244-b21f-3ff6a49d29a6",
   "metadata": {},
   "outputs": [
    {
     "name": "stdout",
     "output_type": "stream",
     "text": [
      "Score: 9.368 on env: (10, 10, 10, 0.5, 0.1, 0.5)\n",
      "Score: 9.342 on env: (20, 20, 20, 0.5, 0.1, 0.5)\n",
      "Score: 9.386 on env: (10, 10, 10, 0.5, 0.05, 0.5)\n",
      "Score: 9.382 on env: (20, 20, 20, 0.5, 0.05, 0.5)\n",
      "Best Env: (10, 10, 10, 0.5, 0.05, 0.5)\n",
      "running VI with gamma: 0.7  n_iters: 1000  theta: 0.1\n",
      "Avg. episode reward:  9.41\n",
      "###################\n",
      "running VI with gamma: 0.7  n_iters: 1000  theta: 0.001\n",
      "Avg. episode reward:  9.31\n",
      "###################\n",
      "running VI with gamma: 0.7  n_iters: 1000  theta: 1e-06\n",
      "Avg. episode reward:  9.35\n",
      "###################\n",
      "running VI with gamma: 0.7  n_iters: 1000  theta: 1e-09\n",
      "Avg. episode reward:  9.26\n",
      "###################\n",
      "running VI with gamma: 0.9  n_iters: 1000  theta: 0.1\n",
      "Avg. episode reward:  9.37\n",
      "###################\n",
      "running VI with gamma: 0.9  n_iters: 1000  theta: 0.001\n",
      "Avg. episode reward:  9.32\n",
      "###################\n",
      "running VI with gamma: 0.9  n_iters: 1000  theta: 1e-06\n",
      "Avg. episode reward:  9.44\n",
      "###################\n",
      "running VI with gamma: 0.9  n_iters: 1000  theta: 1e-09\n",
      "Avg. episode reward:  9.32\n",
      "###################\n",
      "running VI with gamma: 0.99  n_iters: 1000  theta: 0.1\n",
      "Avg. episode reward:  9.21\n",
      "###################\n",
      "running VI with gamma: 0.99  n_iters: 1000  theta: 0.001\n",
      "Avg. episode reward:  9.2\n",
      "###################\n",
      "running VI with gamma: 0.99  n_iters: 1000  theta: 1e-06\n",
      "Avg. episode reward:  9.33\n",
      "###################\n",
      "running VI with gamma: 0.99  n_iters: 1000  theta: 1e-09\n",
      "Avg. episode reward:  9.4\n",
      "###################\n",
      "running VI with gamma: 1  n_iters: 1000  theta: 0.1\n",
      "Avg. episode reward:  9.31\n",
      "###################\n",
      "running VI with gamma: 1  n_iters: 1000  theta: 0.001\n",
      "Avg. episode reward:  9.47\n",
      "###################\n",
      "running VI with gamma: 1  n_iters: 1000  theta: 1e-06\n",
      "Avg. episode reward:  9.34\n",
      "###################\n",
      "running VI with gamma: 1  n_iters: 1000  theta: 1e-09\n",
      "Avg. episode reward:  9.43\n",
      "###################\n",
      "Best Result: 9.47, achieved with: (1, 1000, 0.001)\n"
     ]
    }
   ],
   "source": [
    "# VI Hyperparameter tuning\n",
    "\n",
    "cartpole_envs = [\n",
    "    (10,10,10,0.5,0.1,0.5),\n",
    "    (20,20,20,0.5,0.1,0.5),\n",
    "    (10,10,10,0.5,0.05,0.5),\n",
    "    (20,20,20,0.5,0.05,0.5)\n",
    "]\n",
    "\n",
    "best_score = -1\n",
    "best_env = None\n",
    "for ce in cartpole_envs:\n",
    "    cartpole = CartpoleWrapper(env, position_bins=ce[0],velocity_bins=ce[1],         \n",
    "                                angular_velocity_bins=ce[2],\n",
    "                                threshold_bins=ce[3],\n",
    "                                angular_center_resolution=ce[4],\n",
    "                                angular_outer_resolution=ce[5])\n",
    "    V, V_track, pi = Planner(cartpole.P).value_iteration(n_iters = 1000)\n",
    "    test_scores = TestEnv.test_env(env=cartpole, n_iters=500, render=False, pi=pi, user_input=False)\n",
    "    max_value_per_iter = np.trim_zeros(np.mean(V_track, axis=1), 'b')\n",
    "\n",
    "    print(\"Score: \" + str(np.mean(test_scores)) + \" on env: \" + str(ce))\n",
    "    if np.mean(test_scores) > best_score:\n",
    "        best_env = ce\n",
    "        best_score = np.mean(test_scores)\n",
    "\n",
    "cartpole = CartpoleWrapper(env, position_bins=best_env[0],velocity_bins=best_env[1],         \n",
    "                                angular_velocity_bins=best_env[2],\n",
    "                                threshold_bins=best_env[3],\n",
    "                                angular_center_resolution=best_env[4],\n",
    "                                angular_outer_resolution=best_env[5])\n",
    "print(\"Best Env: \"+ str(best_env))\n",
    "cartpole_map_size=(best_env[0],best_env[2])\n",
    "\n",
    "gamma=[.7, .9, .99, 1]\n",
    "n_iters=[1000]\n",
    "theta=[1e-1, 1e-3, .1e-5, .1e-8]\n",
    "\n",
    "# Find best VI hyperparamters \n",
    "rewards_and_params_results, highest_avg_reward, best_params = GridSearch.vi_grid_search(cartpole, gamma, n_iters, theta)\n",
    "\n",
    "print(\"Best Result: \"+ str(highest_avg_reward) + \", achieved with: \" +  str(best_params))"
   ]
  },
  {
   "cell_type": "code",
   "execution_count": 12,
   "id": "d1f690fa-6b3b-4fa1-b3ed-fd1e70ccefca",
   "metadata": {},
   "outputs": [
    {
     "name": "stdout",
     "output_type": "stream",
     "text": [
      "--- VI took 117.66718983650208 seconds ---\n"
     ]
    },
    {
     "name": "stderr",
     "output_type": "stream",
     "text": [
      "C:\\Users\\wange\\AppData\\Roaming\\Python\\Python313\\site-packages\\bettermdptools\\algorithms\\planner.py:82: UserWarning: Max iterations reached before convergence.  Check n_iters.\n",
      "  warnings.warn(\"Max iterations reached before convergence.  Check n_iters.\")\n"
     ]
    },
    {
     "data": {
      "image/png": "[encoded data removed]",
      "text/plain": [
       "<Figure size 640x480 with 1 Axes>"
      ]
     },
     "metadata": {},
     "output_type": "display_data"
    },
    {
     "name": "stdout",
     "output_type": "stream",
     "text": [
      "9.5\n"
     ]
    }
   ],
   "source": [
    "# run VI\n",
    "start_time = time.time()\n",
    "V, V_track, pi = Planner(cartpole.P).value_iteration(gamma = best_params[0], theta = 0 , n_iters = 1000)\n",
    "print(\"--- VI took %s seconds ---\" % (time.time() - start_time))\n",
    "\n",
    "\n",
    "#test policy\n",
    "test_scores = TestEnv.test_env(env=cartpole, n_iters=10, render=False, pi=pi, user_input=False)\n",
    "\n",
    "max_value_per_iter = np.trim_zeros(np.mean(V_track, axis=1), 'b')\n",
    "Plots.v_iters_plot(max_value_per_iter, \"Cartpole Value Iteration\\nMean Value v Iterations\")\n",
    "print(np.mean(test_scores))\n",
    "\n",
    "\n"
   ]
  },
  {
   "cell_type": "code",
   "execution_count": 3,
   "id": "bf66e977-99a2-4cc2-af8b-74b55eb30642",
   "metadata": {},
   "outputs": [
    {
     "name": "stdout",
     "output_type": "stream",
     "text": [
      "Score: 9.348 on env: (10, 10, 10, 0.5, 0.1, 0.5)\n",
      "Score: 9.326 on env: (20, 20, 20, 0.5, 0.1, 0.5)\n",
      "Score: 9.344 on env: (10, 10, 10, 0.5, 0.05, 0.5)\n",
      "Score: 9.358 on env: (20, 20, 20, 0.5, 0.05, 0.5)\n",
      "Best Env: (20, 20, 20, 0.5, 0.05, 0.5)\n",
      "running PI with gamma: 0.7  n_iters: 1000  theta: 0.1\n",
      "Avg. episode reward:  9.45\n",
      "###################\n",
      "running PI with gamma: 0.7  n_iters: 1000  theta: 0.001\n",
      "Avg. episode reward:  9.22\n",
      "###################\n",
      "running PI with gamma: 0.7  n_iters: 1000  theta: 1e-06\n",
      "Avg. episode reward:  9.34\n",
      "###################\n",
      "running PI with gamma: 0.7  n_iters: 1000  theta: 1e-09\n",
      "Avg. episode reward:  9.37\n",
      "###################\n",
      "running PI with gamma: 0.9  n_iters: 1000  theta: 0.1\n",
      "Avg. episode reward:  9.34\n",
      "###################\n",
      "running PI with gamma: 0.9  n_iters: 1000  theta: 0.001\n",
      "Avg. episode reward:  9.37\n",
      "###################\n",
      "running PI with gamma: 0.9  n_iters: 1000  theta: 1e-06\n",
      "Avg. episode reward:  9.34\n",
      "###################\n",
      "running PI with gamma: 0.9  n_iters: 1000  theta: 1e-09\n",
      "Avg. episode reward:  9.31\n",
      "###################\n",
      "running PI with gamma: 0.99  n_iters: 1000  theta: 0.1\n",
      "Avg. episode reward:  9.4\n",
      "###################\n",
      "running PI with gamma: 0.99  n_iters: 1000  theta: 0.001\n",
      "Avg. episode reward:  9.27\n",
      "###################\n",
      "running PI with gamma: 0.99  n_iters: 1000  theta: 1e-06\n",
      "Avg. episode reward:  9.34\n",
      "###################\n",
      "running PI with gamma: 0.99  n_iters: 1000  theta: 1e-09\n",
      "Avg. episode reward:  9.2\n",
      "###################\n",
      "running PI with gamma: 1  n_iters: 1000  theta: 0.1\n",
      "Avg. episode reward:  9.32\n",
      "###################\n",
      "running PI with gamma: 1  n_iters: 1000  theta: 0.001\n",
      "Avg. episode reward:  9.31\n",
      "###################\n",
      "running PI with gamma: 1  n_iters: 1000  theta: 1e-06\n",
      "Avg. episode reward:  9.39\n",
      "###################\n",
      "running PI with gamma: 1  n_iters: 1000  theta: 1e-09\n",
      "Avg. episode reward:  9.3\n",
      "###################\n",
      "Best Result: 9.45, achieved with: (0.7, 1000, 0.1)\n"
     ]
    }
   ],
   "source": [
    "# PI Hyperparameter tuning\n",
    "\n",
    "cartpole_envs = [\n",
    "    (10,10,10,0.5,0.1,0.5),\n",
    "    (20,20,20,0.5,0.1,0.5),\n",
    "    (10,10,10,0.5,0.05,0.5),\n",
    "    (20,20,20,0.5,0.05,0.5)\n",
    "]\n",
    "\n",
    "best_score = -1\n",
    "best_env = None\n",
    "for ce in cartpole_envs:\n",
    "    cartpole = CartpoleWrapper(env, position_bins=ce[0],velocity_bins=ce[1],         \n",
    "                                angular_velocity_bins=ce[2],\n",
    "                                threshold_bins=ce[3],\n",
    "                                angular_center_resolution=ce[4],\n",
    "                                angular_outer_resolution=ce[5])\n",
    "    V, V_track, pi = Planner(cartpole.P).policy_iteration(n_iters = 1000)\n",
    "    test_scores = TestEnv.test_env(env=cartpole, n_iters=500, render=False, pi=pi, user_input=False)\n",
    "    max_value_per_iter = np.trim_zeros(np.mean(V_track, axis=1), 'b')\n",
    "\n",
    "    print(\"Score: \" + str(np.mean(test_scores)) + \" on env: \" + str(ce))\n",
    "    if np.mean(test_scores) > best_score:\n",
    "        best_env = ce\n",
    "        best_score = np.mean(test_scores)\n",
    "\n",
    "cartpole = CartpoleWrapper(env, position_bins=best_env[0],velocity_bins=best_env[1],         \n",
    "                                angular_velocity_bins=best_env[2],\n",
    "                                threshold_bins=best_env[3],\n",
    "                                angular_center_resolution=best_env[4],\n",
    "                                angular_outer_resolution=best_env[5])\n",
    "print(\"Best Env: \"+ str(best_env))\n",
    "cartpole_map_size=(best_env[0],best_env[2])\n",
    "\n",
    "gamma=[.7, .9, .99, 1]\n",
    "n_iters=[1000]\n",
    "theta=[1e-1, 1e-3, .1e-5, .1e-8]\n",
    "\n",
    "# Find best VI hyperparamters \n",
    "rewards_and_params_results, highest_avg_reward, best_params = GridSearch.pi_grid_search(cartpole, gamma, n_iters, theta)\n",
    "\n",
    "print(\"Best Result: \"+ str(highest_avg_reward) + \", achieved with: \" +  str(best_params))"
   ]
  },
  {
   "cell_type": "code",
   "execution_count": 13,
   "id": "ca9aada1-c061-4e72-87e9-e3d03cbbca8d",
   "metadata": {},
   "outputs": [
    {
     "name": "stdout",
     "output_type": "stream",
     "text": [
      "--- PI took 114.28093957901001 seconds ---\n",
      "9.6\n"
     ]
    },
    {
     "data": {
      "image/png": "[encoded data removed]",
      "text/plain": [
       "<Figure size 640x480 with 1 Axes>"
      ]
     },
     "metadata": {},
     "output_type": "display_data"
    },
    {
     "name": "stdout",
     "output_type": "stream",
     "text": [
      "9.6\n"
     ]
    }
   ],
   "source": [
    "# run PI\n",
    "start_time = time.time()\n",
    "V, V_track, pi = Planner(cartpole.P).policy_iteration(gamma = best_params[0], theta = 0, n_iters = 1000)\n",
    "print(\"--- PI took %s seconds ---\" % (time.time() - start_time))\n",
    "\n",
    "#test policy\n",
    "test_scores = TestEnv.test_env(env=cartpole, n_iters=10, render=False, pi=pi, user_input=False)\n",
    "print(np.mean(test_scores))\n",
    "\n",
    "max_value_per_iter = np.trim_zeros(np.mean(V_track, axis=1), 'b')\n",
    "Plots.v_iters_plot(max_value_per_iter, \"Cartpole Policy Iteration\\nMean Value v Iterations\")\n",
    "print(np.mean(test_scores))\n",
    "\n"
   ]
  },
  {
   "cell_type": "code",
   "execution_count": 10,
   "id": "7b911e32-5ee1-41c2-969f-cf5545f752d9",
   "metadata": {},
   "outputs": [
    {
     "name": "stderr",
     "output_type": "stream",
     "text": [
      "                                                                                                                       "
     ]
    },
    {
     "name": "stdout",
     "output_type": "stream",
     "text": [
      "Score: 94.15 on env: (10, 10, 10, 0.5, 0.1, 0.5)\n"
     ]
    },
    {
     "name": "stderr",
     "output_type": "stream",
     "text": [
      "                                                                                                                       "
     ]
    },
    {
     "name": "stdout",
     "output_type": "stream",
     "text": [
      "Score: 37.238 on env: (20, 20, 20, 0.5, 0.1, 0.5)\n"
     ]
    },
    {
     "name": "stderr",
     "output_type": "stream",
     "text": [
      "                                                                                                                       "
     ]
    },
    {
     "name": "stdout",
     "output_type": "stream",
     "text": [
      "Score: 50.362 on env: (10, 10, 10, 0.5, 0.05, 0.5)\n"
     ]
    },
    {
     "name": "stderr",
     "output_type": "stream",
     "text": [
      "                                                                                                                       "
     ]
    },
    {
     "name": "stdout",
     "output_type": "stream",
     "text": [
      "Score: 20.384 on env: (20, 20, 20, 0.5, 0.05, 0.5)\n",
      "Best Env: (10, 10, 10, 0.5, 0.1, 0.5)\n",
      "running sarsa with gamma: 0.7 epsilon decay: 0.9  iterations: 1000\n"
     ]
    },
    {
     "name": "stderr",
     "output_type": "stream",
     "text": [
      "                                                                                                                       "
     ]
    },
    {
     "name": "stdout",
     "output_type": "stream",
     "text": [
      "Avg. episode reward:  112.02\n",
      "###################\n",
      "running sarsa with gamma: 0.7 epsilon decay: 0.95  iterations: 1000\n"
     ]
    },
    {
     "name": "stderr",
     "output_type": "stream",
     "text": [
      "                                                                                                                       "
     ]
    },
    {
     "name": "stdout",
     "output_type": "stream",
     "text": [
      "Avg. episode reward:  88.78\n",
      "###################\n",
      "running sarsa with gamma: 0.7 epsilon decay: 0.99  iterations: 1000\n"
     ]
    },
    {
     "name": "stderr",
     "output_type": "stream",
     "text": [
      "                                                                                                                       "
     ]
    },
    {
     "name": "stdout",
     "output_type": "stream",
     "text": [
      "Avg. episode reward:  51.09\n",
      "###################\n",
      "running sarsa with gamma: 0.7 epsilon decay: 1  iterations: 1000\n"
     ]
    },
    {
     "name": "stderr",
     "output_type": "stream",
     "text": [
      "                                                                                                                       "
     ]
    },
    {
     "name": "stdout",
     "output_type": "stream",
     "text": [
      "Avg. episode reward:  103.48\n",
      "###################\n",
      "running sarsa with gamma: 0.9 epsilon decay: 0.9  iterations: 1000\n"
     ]
    },
    {
     "name": "stderr",
     "output_type": "stream",
     "text": [
      "                                                                                                                       "
     ]
    },
    {
     "name": "stdout",
     "output_type": "stream",
     "text": [
      "Avg. episode reward:  40.97\n",
      "###################\n",
      "running sarsa with gamma: 0.9 epsilon decay: 0.95  iterations: 1000\n"
     ]
    },
    {
     "name": "stderr",
     "output_type": "stream",
     "text": [
      "                                                                                                                       "
     ]
    },
    {
     "name": "stdout",
     "output_type": "stream",
     "text": [
      "Avg. episode reward:  58.2\n",
      "###################\n",
      "running sarsa with gamma: 0.9 epsilon decay: 0.99  iterations: 1000\n"
     ]
    },
    {
     "name": "stderr",
     "output_type": "stream",
     "text": [
      "                                                                                                                       "
     ]
    },
    {
     "name": "stdout",
     "output_type": "stream",
     "text": [
      "Avg. episode reward:  44.45\n",
      "###################\n",
      "running sarsa with gamma: 0.9 epsilon decay: 1  iterations: 1000\n"
     ]
    },
    {
     "name": "stderr",
     "output_type": "stream",
     "text": [
      "                                                                                                                       "
     ]
    },
    {
     "name": "stdout",
     "output_type": "stream",
     "text": [
      "Avg. episode reward:  31.6\n",
      "###################\n",
      "running sarsa with gamma: 0.99 epsilon decay: 0.9  iterations: 1000\n"
     ]
    },
    {
     "name": "stderr",
     "output_type": "stream",
     "text": [
      "                                                                                                                       "
     ]
    },
    {
     "name": "stdout",
     "output_type": "stream",
     "text": [
      "Avg. episode reward:  35.46\n",
      "###################\n",
      "running sarsa with gamma: 0.99 epsilon decay: 0.95  iterations: 1000\n"
     ]
    },
    {
     "name": "stderr",
     "output_type": "stream",
     "text": [
      "                                                                                                                       "
     ]
    },
    {
     "name": "stdout",
     "output_type": "stream",
     "text": [
      "Avg. episode reward:  40.25\n",
      "###################\n",
      "running sarsa with gamma: 0.99 epsilon decay: 0.99  iterations: 1000\n"
     ]
    },
    {
     "name": "stderr",
     "output_type": "stream",
     "text": [
      "                                                                                                                       "
     ]
    },
    {
     "name": "stdout",
     "output_type": "stream",
     "text": [
      "Avg. episode reward:  96.3\n",
      "###################\n",
      "running sarsa with gamma: 0.99 epsilon decay: 1  iterations: 1000\n"
     ]
    },
    {
     "name": "stderr",
     "output_type": "stream",
     "text": [
      "                                                                                                                       "
     ]
    },
    {
     "name": "stdout",
     "output_type": "stream",
     "text": [
      "Avg. episode reward:  86.36\n",
      "###################\n",
      "running sarsa with gamma: 1 epsilon decay: 0.9  iterations: 1000\n"
     ]
    },
    {
     "name": "stderr",
     "output_type": "stream",
     "text": [
      "                                                                                                                       "
     ]
    },
    {
     "name": "stdout",
     "output_type": "stream",
     "text": [
      "Avg. episode reward:  35.45\n",
      "###################\n",
      "running sarsa with gamma: 1 epsilon decay: 0.95  iterations: 1000\n"
     ]
    },
    {
     "name": "stderr",
     "output_type": "stream",
     "text": [
      "                                                                                                                       "
     ]
    },
    {
     "name": "stdout",
     "output_type": "stream",
     "text": [
      "Avg. episode reward:  129.77\n",
      "###################\n",
      "running sarsa with gamma: 1 epsilon decay: 0.99  iterations: 1000\n"
     ]
    },
    {
     "name": "stderr",
     "output_type": "stream",
     "text": [
      "                                                                                                                       "
     ]
    },
    {
     "name": "stdout",
     "output_type": "stream",
     "text": [
      "Avg. episode reward:  66.34\n",
      "###################\n",
      "running sarsa with gamma: 1 epsilon decay: 1  iterations: 1000\n"
     ]
    },
    {
     "name": "stderr",
     "output_type": "stream",
     "text": [
      "                                                                                                                       "
     ]
    },
    {
     "name": "stdout",
     "output_type": "stream",
     "text": [
      "Avg. episode reward:  68.05\n",
      "###################\n"
     ]
    },
    {
     "name": "stderr",
     "output_type": "stream",
     "text": [
      "                                                                                                                       "
     ]
    },
    {
     "name": "stdout",
     "output_type": "stream",
     "text": [
      "Best Result: 129.77, achieved with: (1, 0.95, 1000)[0.9, 0.99, 1]\n"
     ]
    }
   ],
   "source": [
    "# PI Hyperparameter tuning\n",
    "\n",
    "# First select best environment\n",
    "cartpole_envs = [\n",
    "    (10,10,10,0.5,0.1,0.5),\n",
    "    (20,20,20,0.5,0.1,0.5),\n",
    "    (10,10,10,0.5,0.05,0.5),\n",
    "    (20,20,20,0.5,0.05,0.5)\n",
    "]\n",
    "\n",
    "best_score = -1\n",
    "best_env = None\n",
    "for ce in cartpole_envs:\n",
    "    cartpole = CartpoleWrapper(env, position_bins=ce[0],velocity_bins=ce[1],         \n",
    "                                angular_velocity_bins=ce[2],\n",
    "                                threshold_bins=ce[3],\n",
    "                                angular_center_resolution=ce[4],\n",
    "                                angular_outer_resolution=ce[5])\n",
    "\n",
    "    # Run Sarsa\n",
    "    Q, V, pi, Q_track, pi_track, rewards = RL(cartpole).sarsa(n_episodes = 1000)\n",
    "\n",
    "    #test policy\n",
    "    test_scores = TestEnv.test_env(env=cartpole, n_iters=500, render=False, pi=pi, user_input=False)\n",
    "    print(\"Score: \" + str(np.mean(test_scores)) + \" on env: \" + str(ce))\n",
    "    if np.mean(test_scores) > best_score:\n",
    "        best_env = ce\n",
    "        best_score = np.mean(test_scores)\n",
    "\n",
    "        \n",
    "cartpole = CartpoleWrapper(env, position_bins=best_env[0],velocity_bins=best_env[1],         \n",
    "                                angular_velocity_bins=best_env[2],\n",
    "                                threshold_bins=best_env[3],\n",
    "                                angular_center_resolution=best_env[4],\n",
    "                                angular_outer_resolution=best_env[5])\n",
    "print(\"Best Env: \"+ str(best_env))\n",
    "\n",
    "# Then Tune paramters for this environment\n",
    "\n",
    "gamma=[.7, .9, .99, 1]\n",
    "n_iters=[1000]\n",
    "epsilon_decay=[.9, .95, .99, 1]\n",
    "init_alpha = [0.1, 0.5, 0.9]\n",
    "alpha_decay_ratio = [0.1, 0.5, 0.99]\n",
    "init_epsilon = [0.2, 0.5, 1]\n",
    "\n",
    "# Find best Sarasa hyperparamters \n",
    "rewards_and_params_results, highest_avg_reward, best_params = GridSearch.sarsa_grid_search(cartpole, gamma, epsilon_decay, n_iters)\n",
    "\n",
    "best_score = -1\n",
    "best_add_params = [0,0,0]\n",
    "for ia in init_alpha:\n",
    "    for ad in alpha_decay_ratio:\n",
    "        for ie in init_epsilon:\n",
    "            # Run Sarsa\n",
    "            Q, V, pi, Q_track, pi_track, rewards = RL(cartpole).sarsa(gamma = best_params[0],\n",
    "                                                                       epsilon_decay_ratio = best_params[1],\n",
    "                                                                      alpha_decay_ratio = ad,\n",
    "                                                                      init_alpha = ia,\n",
    "                                                                      init_epsilon = ie,\n",
    "                                                                      n_episodes = n_iters[0])\n",
    "\n",
    "            #test policy\n",
    "            test_scores = TestEnv.test_env(env=cartpole, n_iters=5000, render=False, pi=pi, user_input=False)\n",
    "            if np.mean(test_scores) > best_score:\n",
    "                best_score = np.mean(test_scores)\n",
    "                best_add_params[0] = ia\n",
    "                best_add_params[1] = ad\n",
    "                best_add_params[2] = ie\n",
    "\n",
    "print(\"Best Result: \"+ str(highest_avg_reward) + \", achieved with: \" +  str(best_params) + str(best_add_params))"
   ]
  },
  {
   "cell_type": "code",
   "execution_count": 11,
   "id": "b13c11e2-d1e0-4aba-a92b-97f865014f92",
   "metadata": {},
   "outputs": [
    {
     "name": "stderr",
     "output_type": "stream",
     "text": [
      "                                                                                                                       "
     ]
    },
    {
     "name": "stdout",
     "output_type": "stream",
     "text": [
      "--- PI took 10617.008339881897 seconds ---\n",
      "500.0\n"
     ]
    },
    {
     "data": {
      "image/png": "[encoded data removed]",
      "text/plain": [
       "<Figure size 640x480 with 1 Axes>"
      ]
     },
     "metadata": {},
     "output_type": "display_data"
    },
    {
     "name": "stdout",
     "output_type": "stream",
     "text": [
      "500.0\n"
     ]
    }
   ],
   "source": [
    "\n",
    "# Run Sarsa\n",
    "\n",
    "start_time = time.time()\n",
    "Q, V, pi, Q_track, pi_track, rewards = RL(cartpole).sarsa(gamma = best_params[0],\n",
    "                                                           epsilon_decay_ratio = best_params[1],\n",
    "                                                           alpha_decay_ratio = best_add_params[1],\n",
    "                                                           init_alpha = best_add_params[0],\n",
    "                                                           init_epsilon = best_add_params[2],\n",
    "                                                           n_episodes = 50000)\n",
    "print(\"--- PI took %s seconds ---\" % (time.time() - start_time))\n",
    "\n",
    "#test policy\n",
    "test_scores = TestEnv.test_env(env=cartpole, n_iters=10, render=False, pi=pi, user_input=False)\n",
    "print(np.mean(test_scores))\n",
    "\n",
    "\n",
    "max_value_per_iter = np.trim_zeros(np.mean(Q_track, axis=(1,2)), 'b')\n",
    "Plots.v_iters_plot(max_value_per_iter, \"CartPole Sarsa\\nMean Q v Iterations\")\n",
    "print(np.mean(test_scores))\n"
   ]
  },
  {
   "cell_type": "code",
   "execution_count": null,
   "id": "7cf59102-94bd-446c-8856-977c70efaf42",
   "metadata": {},
   "outputs": [],
   "source": []
  }
 ],
 "metadata": {
  "kernelspec": {
   "display_name": "Python 3 (ipykernel)",
   "language": "python",
   "name": "python3"
  },
  "language_info": {
   "codemirror_mode": {
    "name": "ipython",
    "version": 3
   },
   "file_extension": ".py",
   "mimetype": "text/x-python",
   "name": "python",
   "nbconvert_exporter": "python",
   "pygments_lexer": "ipython3",
   "version": "3.13.3"
  }
 },
 "nbformat": 4,
 "nbformat_minor": 5
}
